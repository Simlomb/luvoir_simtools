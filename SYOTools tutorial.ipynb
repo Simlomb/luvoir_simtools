{
 "cells": [
  {
   "cell_type": "markdown",
   "metadata": {},
   "source": [
    "# Introduction"
   ]
  },
  {
   "cell_type": "markdown",
   "metadata": {},
   "source": [
    "[SYOTools](https://github.com/tumlinson/luvoir_simtools) is a framework to enable users to create [Science Yield Optimization web tools](http://www.jt-astro.science/luvoir.html) for observatory design. It uses Bokeh & astropy to visualize exposure time calculators (ETCs), as well as other science cases, as a function of various observatory parameters. While SYOTools can be used independently of a particular observatory or science case, it has been primarily written to facilitate the design of [LUVOIR](https://asd.gsfc.nasa.gov/luvoir/).\n",
    "\n",
    "SYOTools is divided into two main parts, contained in the `syotools.models` and `syotools.interface` subpackages. This Jupyter Notebook is intended as a walkthrough for using `syotools.models` to perform calculations. A future tutorial on using `syotools.interface` to design a web tool is in preparation; however, it will not be a similar Jupyter Notebook, as the interface framework is highly integrated with Bokeh Server. Instead, we will use Bokeh's `output_notebook` function, along with IPython interactors (as described [here](https://github.com/bokeh/bokeh/blob/0.12.13/examples/howto/notebook_comms/Jupyter%20Interactors.ipynb)), to visualize the example calculations below. "
   ]
  },
  {
   "cell_type": "code",
   "execution_count": null,
   "metadata": {},
   "outputs": [],
   "source": [
    "#Import Bokeh interface tools\n",
    "from ipywidgets import interact\n",
    "from bokeh.io import push_notebook, show, output_notebook\n",
    "from bokeh.plotting import figure\n",
    "from bokeh.layouts import column\n",
    "output_notebook()\n",
    "\n",
    "#Import numpy, syotools, and astropy.units\n",
    "### NOTE: you will likely receive some pysynphot warnings when executing these imports, these are expected\n",
    "import numpy as np\n",
    "from syotools import cdbs #make sure that pysynphot can find its reference files!\n",
    "from syotools.models import Telescope, Camera, Spectrograph #models for the observatory and instruments\n",
    "from syotools.utils.jsonunit import str_jsunit #for printing JsonUnit and JsonSpectrum wrappers in a readable way\n",
    "from syotools.utils import pre_encode, pre_decode\n",
    "from syotools.spectra import SpectralLibrary\n",
    "import astropy.units as u"
   ]
  },
  {
   "cell_type": "markdown",
   "metadata": {},
   "source": [
    "## Example 1: HDI ETC"
   ]
  },
  {
   "cell_type": "markdown",
   "metadata": {},
   "source": [
    "From the LUVOIR design concept: *\"The High Definition Imager (HDI) instrument is the primary astronomical imaging instrument for observations in the near UV through the near IR. The HDI design provides a 2 x 3 arcminute field-of-view, taking full advantage of the angular resolution provided by the telescope, and consists of two channels - an ultraviolet-visible (UVIS) channel covering 200 nm - 950 nm and a near-infrared (NIR) channel covering the range 800 nm - 2200 nm. The respective focal plane detector arrays provide Nyquist sampled images at 400 nm (2.73 mas/pixel) for UVIS imaging and at 1200 nm (8.20 mas/pixel) for NIR imaging.\"*"
   ]
  },
  {
   "cell_type": "markdown",
   "metadata": {},
   "source": [
    "In this example, we will create a exposure time calculator for HDI, so that we can calculate the signal-to-noise ratio (SNR) for several possible template spectra. This approximates some of the functionality of [the official HDI ETC tool](http://jt-astro.science:5101/hdi_etc)."
   ]
  },
  {
   "cell_type": "code",
   "execution_count": null,
   "metadata": {},
   "outputs": [],
   "source": [
    "#Instatiate the observatory using syotools.models.Telescope\n",
    "#This loads the default Telescope values, which are already based on the LUVOIR design\n",
    "luvoir_ex1 = Telescope()\n",
    "luvoir_ex1.aperture = pre_encode(15.08 * u.m) #set the telescope aperture for LUVOIR Architecture A"
   ]
  },
  {
   "cell_type": "code",
   "execution_count": null,
   "metadata": {},
   "outputs": [],
   "source": [
    "#Instantiate the instrument, using syotools.models.Camera, and link it with the telescope\n",
    "#This loads the default Camera values, which are already based on the LUVOIR-HDI design\n",
    "hdi = Camera()\n",
    "luvoir_ex1.add_camera(hdi)"
   ]
  },
  {
   "cell_type": "code",
   "execution_count": null,
   "metadata": {},
   "outputs": [],
   "source": [
    "#Create a new photometric exposure for the camera\n",
    "hdi_exposure = hdi.create_exposure()\n",
    "\n",
    "#Print the available wave bands\n",
    "pivotwave, bandpass = hdi.recover('pivotwave', 'derived_bandpass')\n",
    "\n",
    "print \"HDI wave bands:\"\n",
    "for band, pwave, bpass in zip(hdi.bandnames, pivotwave, bandpass):\n",
    "    print u\"   {:3s} - {:5.2f} ± {:5.2f}\".format(band, pwave, bpass)\n",
    "\n",
    "#Print the default template\n",
    "default_hdi_template = SpectralLibrary[hdi_exposure.sed_id]\n",
    "print \"Current SED template: {}\".format(default_hdi_template)\n",
    "\n",
    "hdi_template_codes = ['fab', 'o5v', 'b5v', 'g2v', 'm2v', 'orion', 'elliptical', 'sbc', 'starburst', 'ngc1068']\n",
    "available_hdi_templates = [SpectralLibrary[tc] for tc in hdi_template_codes]\n",
    "\n",
    "#### NOTE: you will receive a UnitsWarning from this cell, which is expected behavior"
   ]
  },
  {
   "cell_type": "code",
   "execution_count": null,
   "metadata": {},
   "outputs": [],
   "source": [
    "#Create the Bokeh SED figure\n",
    "hdi_sed = hdi_exposure.recover('sed')\n",
    "hdi_sed.convert('abmag')\n",
    "hdi_sed.convert('nm')\n",
    "hdi_sed_fig = figure(plot_height=300, plot_width=600, title=\"SED\", x_axis_label=\"Wavelength [nm]\",\n",
    "                 y_axis_label=\"AB Mag\", y_range=(35, 21), x_range=(120, 2300))\n",
    "hdi_sed_line = hdi_sed_fig.line(hdi_sed.wave, hdi_sed.flux, color='orange', line_width=3)"
   ]
  },
  {
   "cell_type": "code",
   "execution_count": null,
   "metadata": {},
   "outputs": [],
   "source": [
    "#Create the Bokeh SNR figure\n",
    "hdi_snr = hdi_exposure.recover('snr')\n",
    "hdi_snr_fig = figure(plot_height=300, plot_width=600, title=\"SNR\", x_axis_label=\"Wavelength [nm]\", \n",
    "                 y_axis_label=\"SNR\", y_range=(0, 40), x_range=(120, 2300))\n",
    "uv_hdi_snr = hdi_snr_fig.line(pivotwave[:2].value, hdi_snr[:2].value, color='orange', line_width=3)\n",
    "vis_hdi_snr = hdi_snr_fig.line(pivotwave[2:-3].value, hdi_snr[2:-3].value, color='blue', line_width=3)\n",
    "ir_hdi_snr = hdi_snr_fig.line(pivotwave[-3:].value, hdi_snr[-3:].value, color='red', line_width=3)"
   ]
  },
  {
   "cell_type": "code",
   "execution_count": null,
   "metadata": {},
   "outputs": [],
   "source": [
    "#Define the update callback function for interactive inputs\n",
    "def hdi_update(template=default_hdi_template, aperture=12., exptime=1., v_magnitude=30.):\n",
    "    #find the correct template code\n",
    "    sed_id = hdi_template_codes[available_hdi_templates.index(template)]\n",
    "    \n",
    "    #turn off calculations until everything is updated\n",
    "    hdi_exposure.disable()\n",
    "    \n",
    "    #update all of the telescope & exposure parameters\n",
    "    hdi_exposure.exptime = exptime * u.h\n",
    "    hdi_exposure.sed_id = sed_id\n",
    "    luvoir_ex1.aperture = aperture * u.m\n",
    "    hdi_exposure.renorm_sed(v_magnitude * u.ABmag)\n",
    "    \n",
    "    #turn calculations back on and recalculate based on updated parameters\n",
    "    hdi_exposure.enable()\n",
    "    \n",
    "    #recover the recalculated values, and make sure everything is in the right units\n",
    "    hdi_sed, hdi_snr = hdi_exposure.recover('sed', 'snr')\n",
    "    hdi_sed.convert('nm')\n",
    "    hdi_sed.convert('abmag')\n",
    "    \n",
    "    #sanitize the sed fluxes because some of the pysynphot spectra don't play nice\n",
    "    hdi_flux = hdi_sed.flux\n",
    "    hdi_flux[~np.isfinite(hdi_flux)] = v_magnitude\n",
    "    \n",
    "    #update the SED figure\n",
    "    hdi_sed_fig.y_range.start = hdi_flux.max() + 5.\n",
    "    hdi_sed_fig.y_range.end = hdi_flux.min() - 5.\n",
    "    hdi_sed_line.data_source.data = {'x': hdi_sed.wave, 'y': hdi_flux}\n",
    "    \n",
    "    #update the SNR figure\n",
    "    hdi_snr_fig.y_range.start = 0.\n",
    "    hdi_snr_fig.y_range.end = max(1.3 * hdi_snr.value.max(), 5.)\n",
    "    uv_hdi_snr.data_source.data['y'] = hdi_snr.value[:2]\n",
    "    vis_hdi_snr.data_source.data['y'] = hdi_snr.value[2:-3]\n",
    "    ir_hdi_snr.data_source.data['y'] = hdi_snr.value[-3:]\n",
    "    \n",
    "    #update the plots\n",
    "    push_notebook()"
   ]
  },
  {
   "cell_type": "code",
   "execution_count": null,
   "metadata": {},
   "outputs": [],
   "source": [
    "#Show the plots\n",
    "hdi_handle = show(column(hdi_sed_fig, hdi_snr_fig), notebook_handle=True)"
   ]
  },
  {
   "cell_type": "code",
   "execution_count": null,
   "metadata": {},
   "outputs": [],
   "source": [
    "#Create the interactive inputs\n",
    "hdi_inputs = interact(hdi_update, template=available_hdi_templates, aperture=(2.0, 20.0), exptime=(0.1, 10.0, 0.1), \n",
    "         v_magnitude=(20.0, 35.0, 0.1))"
   ]
  },
  {
   "cell_type": "markdown",
   "metadata": {},
   "source": [
    "## Example 2: LUMOS ETC"
   ]
  },
  {
   "cell_type": "markdown",
   "metadata": {},
   "source": [
    "From the LUVOIR design concept: *\"LUMOS (LUVOIR Ultraviolet Multi Object Spectrograph) is a multi-object spectrograph covering far-ultraviolet (100 nm) through visible (850 nm) wavelengths. LUMOS is a highly multiplexed ultraviolet spectrograph, with medium and low-resolution multi-object imaging spectroscopy and FUV imaging modes. LUMOS can be considered as a successor to the Hubble Space Telescope Imaging Spectrograph (STIS) instrument, with two orders-of-magnitude higher efficiency, multi-object capability, and a wide-field multi-band imaging channel.\"*"
   ]
  },
  {
   "cell_type": "markdown",
   "metadata": {},
   "source": [
    "In this example, we will create a exposure time calculator for LUMOS, so that we can calculate the signal-to-noise ratio (SNR) for several possible template spectra. This approximates some of the functionality of [the official LUMOS ETC tool](http://jt-astro.science:5102/lumos_etc)."
   ]
  },
  {
   "cell_type": "code",
   "execution_count": null,
   "metadata": {},
   "outputs": [],
   "source": [
    "#Again, instatiate the observatory using syotools.models.Telescope\n",
    "luvoir_ex2 = Telescope()\n",
    "luvoir_ex2.aperture = pre_encode(15.08 * u.m) #set the telescope aperture for LUVOIR Architecture A"
   ]
  },
  {
   "cell_type": "code",
   "execution_count": null,
   "metadata": {},
   "outputs": [],
   "source": [
    "#Instantiate the instrument, using syotools.models.Spectrograph, and link it with the telescope\n",
    "#This loads the default Spectrograph values, which are already based on the LUVOIR-LUMOS design\n",
    "lumos = Spectrograph()\n",
    "luvoir_ex2.add_spectrograph(lumos)"
   ]
  },
  {
   "cell_type": "code",
   "execution_count": null,
   "metadata": {},
   "outputs": [],
   "source": [
    "#Create a new spectrographic exposure for the camera\n",
    "lumos_exposure = lumos.create_exposure()\n",
    "lumos_exposure.sed_id = \"qso\"\n",
    "lumos_exposure.renorm_sed(21.0 * u.ABmag, bandpass='galex,fuv')\n",
    "\n",
    "#Print the available grating modes\n",
    "available_lumos_modes = [lumos.descriptions[mode] for mode in lumos.modes]\n",
    "print \"LUMOS grating modes:\"\n",
    "for mode in available_lumos_modes:\n",
    "    print \"   \"+mode\n",
    "\n",
    "#Print the default template & mode\n",
    "default_lumos_template = SpectralLibrary[lumos_exposure.sed_id]\n",
    "default_lumos_mode = lumos.descriptions[lumos.mode]\n",
    "print \"Current SED template: {}\".format(default_lumos_template)\n",
    "print \"Current grating mode: {}\".format(default_lumos_mode)\n",
    "\n",
    "lumos_template_codes = ['flam', 'qso', 's99', 'o5v', 'g2v', 'g191b2b', 'gd71', 'gd153', 'ctts', \n",
    "                        'mdwarf', 'orion', 'nodust', 'ebv6', 'hi1hei1', 'hi0hei1']\n",
    "available_lumos_templates = [SpectralLibrary[tc] for tc in lumos_template_codes]\n",
    "\n",
    "#### NOTE: you may receive a UnitsWarning from this cell, which is expected behavior"
   ]
  },
  {
   "cell_type": "code",
   "execution_count": null,
   "metadata": {},
   "outputs": [],
   "source": [
    "#Create the Bokeh SED figure\n",
    "lumos_sed = lumos_exposure.recover('sed')\n",
    "lumos_sed.convert('flam')\n",
    "lumos_sed.convert('angstrom')\n",
    "lumos_bgflux = lumos.recover('bef').to(u.erg / u.s / u.cm**2 / u.AA).value\n",
    "lumos_bgwave = lumos.recover('wave').to(u.AA).value\n",
    "lumos_sed_fig = figure(plot_height=300, plot_width=600, title=\"SED\", x_axis_label=\"Wavelength [Angstrom]\",\n",
    "                 y_axis_label=\"Flux [erg / s / cm2 / Ang]\", y_range=(0., 4.0e-16), x_range=(900, 4000))\n",
    "lumos_sed_line = lumos_sed_fig.line(lumos_sed.wave, lumos_sed.flux, color='firebrick', \n",
    "                                    line_width=3, legend='Source Flux')\n",
    "lumos_bef_line = lumos_sed_fig.line(lumos_bgwave, lumos_bgflux, color='darksalmon', \n",
    "                                    line_width=3, legend='Background')"
   ]
  },
  {
   "cell_type": "code",
   "execution_count": null,
   "metadata": {},
   "outputs": [],
   "source": [
    "#Create the Bokeh SNR figure\n",
    "lumos_snr = lumos_exposure.recover('snr')\n",
    "lumos_snr_fig = figure(plot_height=300, plot_width=600, title=\"SNR\", x_axis_label=\"Wavelength [Angstrom]\", \n",
    "                 y_axis_label=\"S/N per resel\", y_range=(0.0, 40.0), x_range=(900, 4000))\n",
    "lumos_snr_line = lumos_snr_fig.line(lumos_bgwave, lumos_snr, color='orange', line_width=3)"
   ]
  },
  {
   "cell_type": "code",
   "execution_count": null,
   "metadata": {},
   "outputs": [],
   "source": [
    "#Define the update callback function for interactive inputs\n",
    "def lumos_update(template=default_lumos_template, aperture=15., exptime=1., \n",
    "                 v_magnitude=21., mode=default_lumos_mode):\n",
    "    #find the correct template code & grating mode\n",
    "    sed_id = lumos_template_codes[available_lumos_templates.index(template)]\n",
    "    grating, = [m for m, d in lumos.descriptions.items() if d == mode]\n",
    "    \n",
    "    #turn off calculations until everything is updated\n",
    "    lumos_exposure.disable()\n",
    "    \n",
    "    #update all of the telescope, spectrograph, & exposure parameters\n",
    "    luvoir_ex2.aperture = aperture * u.m\n",
    "    lumos.mode = grating\n",
    "    lumos_exposure.exptime = exptime * u.h\n",
    "    lumos_exposure.sed_id = sed_id\n",
    "    lumos_exposure.renorm_sed(v_magnitude * u.ABmag, bandpass='galex,fuv')\n",
    "    \n",
    "    #turn calculations back on and recalculate based on updated parameters\n",
    "    lumos_exposure.enable()\n",
    "    \n",
    "    #recover the recalculated values, and make sure everything is in the right units\n",
    "    lumos_sed, lumos_snr = lumos_exposure.recover('sed', 'snr')\n",
    "    lumos_sed.convert('flam')\n",
    "    lumos_sed.convert('angstrom')\n",
    "    lumos_bgflux = lumos.recover('bef').to(u.erg / u.s / u.cm**2 / u.AA).value\n",
    "    lumos_bgwave = lumos.recover('wave').to(u.AA).value\n",
    "    \n",
    "    #sanitize the fluxes and SNR because some of the spectra don't play nice\n",
    "    lumos_flux = lumos_sed.flux\n",
    "    lumos_flux[~np.isfinite(lumos_flux)] = 0.\n",
    "    lumos_bgflux[~np.isfinite(lumos_bgflux)] = 0.\n",
    "    lumos_snr[~np.isfinite(lumos_snr)] = 0.\n",
    "    \n",
    "    #update the SED figure\n",
    "    lumos_sed_fig.y_range.start = 0.\n",
    "    lumos_sed_fig.y_range.end = 1.5 * lumos_flux.max()\n",
    "    lumos_sed_line.data_source.data = {'x': lumos_sed.wave, 'y': lumos_flux}\n",
    "    lumos_bef_line.data_source.data = {'x': lumos_bgwave, 'y': lumos_bgflux}\n",
    "    \n",
    "    #update the SNR figure\n",
    "    lumos_snr_fig.y_range.start = 0.\n",
    "    lumos_snr_fig.y_range.end = 1.5 * lumos_snr.value.max()\n",
    "    lumos_snr_line.data_source.data = {'x': lumos_bgwave, 'y': lumos_snr.value}\n",
    "    \n",
    "    #update the plots\n",
    "    push_notebook()"
   ]
  },
  {
   "cell_type": "code",
   "execution_count": null,
   "metadata": {
    "scrolled": false
   },
   "outputs": [],
   "source": [
    "#Show the plots\n",
    "lumos_handle = show(column(lumos_sed_fig, lumos_snr_fig), notebook_handle=True)"
   ]
  },
  {
   "cell_type": "code",
   "execution_count": null,
   "metadata": {},
   "outputs": [],
   "source": [
    "#Create the interactive inputs\n",
    "lumos_inputs = interact(lumos_update, template=available_lumos_templates, aperture=(2.0, 20.0), \n",
    "                        exptime=(0.1, 10.0, 0.1), v_magnitude=(15.0, 30.0, 0.1), mode=available_lumos_modes)"
   ]
  }
 ],
 "metadata": {
  "kernelspec": {
   "display_name": "Python 2",
   "language": "python",
   "name": "python2"
  },
  "language_info": {
   "codemirror_mode": {
    "name": "ipython",
    "version": 2
   },
   "file_extension": ".py",
   "mimetype": "text/x-python",
   "name": "python",
   "nbconvert_exporter": "python",
   "pygments_lexer": "ipython2",
   "version": "2.7.13"
  }
 },
 "nbformat": 4,
 "nbformat_minor": 2
}
