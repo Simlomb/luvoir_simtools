{
 "cells": [
  {
   "cell_type": "code",
   "execution_count": 1,
   "metadata": {
    "collapsed": true
   },
   "outputs": [],
   "source": [
    "# coding: utf-8\n",
    "\n",
    "# # Investigating QSOs near Cen A (NGC 5128)\n",
    "# [Simbad Information for NGC 5128](http://simbad.u-strasbg.fr/simbad/sim-basic?Ident=cen+a&submit=SIMBAD+search)\n",
    "\n",
    "\n",
    "## Very most basic/standard imports:\n",
    "import matplotlib.pyplot as plt\n",
    "import numpy as np\n",
    "\n",
    "##If you read FITS or ascii tables, these are necessary:\n",
    "from astropy.io import ascii\n",
    "from astropy.table import QTable\n",
    "\n",
    "##Automatic unit tracking...maybe?\n",
    "import astropy.units as u\n",
    "\n",
    "# AstroPy treatment of coordinates\n",
    "from astropy.coordinates import SkyCoord\n",
    "\n",
    "# SIMBAD query functionality\n",
    "from astroquery.simbad import Simbad\n",
    "\n",
    "# Set up the resolution\n",
    "import matplotlib as mpl\n",
    "mpl.rc(\"savefig\", dpi=300)"
   ]
  },
  {
   "cell_type": "code",
   "execution_count": 3,
   "metadata": {
    "collapsed": false
   },
   "outputs": [],
   "source": [
    "# ### Grab Cen A information from SIMBAD\n",
    "cenA = Simbad.query_object('ngc5128')\n",
    "\n",
    "# Fill `SkyCoord` variables.\n",
    "cenAdistance = 3.8 * u.Mpc  # Harris et al. (2010)\n",
    "cenACoords = SkyCoord(cenA['RA'][0], cenA['DEC'][0], unit=(u.hourangle, u.deg))\n",
    "\n",
    "########################################\n",
    "# Gamma/radio emission in JPEG\n",
    "\n",
    "# Load in PR image!\n",
    "#imCenA = plt.imread('cenA_lobes.jpg')     #\n",
    "imCenA = plt.imread('cenA-Fermi-noLabel.jpg')\n",
    "imCenA = imCenA[:,0:556,:]\n",
    "\n"
   ]
  },
  {
   "cell_type": "code",
   "execution_count": 4,
   "metadata": {
    "collapsed": true
   },
   "outputs": [],
   "source": [
    "# Work out angle for FoV on the sky. The \"scale\" is based on a measurement with\n",
    "# a different image, so need to get that scale right (hence all the bits at the\n",
    "# end).\n",
    "scale = 300.*u.kpc / (595*786./1007) # kpc/pixel\n",
    "FoV = np.array(np.shape(imCenA)[0:-1])\n",
    "# Put things in the right order\n",
    "FoV = FoV[[1,0]]\n",
    "FoV_kpc = FoV * scale\n",
    "angle = np.rad2deg(np.arctan(FoV_kpc / cenAdistance.to('kpc'))  )\n",
    "area = angle[0]*angle[1]                  # x * y"
   ]
  },
  {
   "cell_type": "code",
   "execution_count": 6,
   "metadata": {
    "collapsed": false
   },
   "outputs": [],
   "source": [
    "###############\n",
    "## Apertures sizes\n",
    "aperture = [4, 6, 9, 15]\n",
    "\n",
    "## Add QSOs\n",
    "dr7qso = QTable.read('data/dr7_qso_galex.fits')\n",
    "zem = dr7qso['Z'][0]\n",
    "fuv = dr7qso['FUV_MAG'][0]\n",
    "nuv = dr7qso['NUV_MAG'][0]\n",
    "\n",
    "limitingmags = [18.3,19.2,20.1,21.8]\n",
    "numQSOs = np.zeros_like(limitingmags)\n",
    "for j in np.arange(np.size(limitingmags)):\n",
    "    num = ((fuv > 10) & (fuv < limitingmags[j]))\n",
    "    num = num.sum()\n",
    "    numQSOs[j] += num\n",
    "\n",
    "# Make this a relative number:\n",
    "numQSOs = np.array(numQSOs)/np.max(numQSOs)\n",
    "\n",
    "# If we want it, the SDSS spectroscopic area\n",
    "SDSS_spec_area = 9380.\n",
    "\n",
    "# Rough QSO density for 15-m\n",
    "qso_density_ref = 5./u.deg**2\n"
   ]
  },
  {
   "cell_type": "code",
   "execution_count": 7,
   "metadata": {
    "collapsed": false
   },
   "outputs": [
    {
     "name": "stderr",
     "output_type": "stream",
     "text": [
      "/Users/tumlinson/yt-conda/lib/python2.7/site-packages/ipykernel/__main__.py:23: VisibleDeprecationWarning: using a non-integer number instead of an integer will result in an error in the future\n",
      "/Users/tumlinson/yt-conda/lib/python2.7/site-packages/ipykernel/__main__.py:24: VisibleDeprecationWarning: using a non-integer number instead of an integer will result in an error in the future\n"
     ]
    }
   ],
   "source": [
    "for j in np.arange(np.size(limitingmags)):\n",
    "    ######################################################################\n",
    "    ## Set up the figure:\n",
    "    plt.figure(figsize=(2.47,3.36))\n",
    "\n",
    "    ###############\n",
    "    ## Image\n",
    "    ax = plt.subplot(111)\n",
    "\n",
    "    ax.imshow(imCenA, zorder=0)\n",
    "\n",
    "    # make these tick labels invisible\n",
    "    plt.setp(ax.get_xticklabels(), visible=False);\n",
    "    plt.setp(ax.get_yticklabels(), visible=False);\n",
    "\n",
    "    # Get rid of tick marks\n",
    "    ax.tick_params(axis=u'both', width=0)\n",
    "    ax.minorticks_off()\n",
    "\n",
    "\n",
    "    num_qsos = qso_density_ref * numQSOs[j] * area\n",
    "\n",
    "    xqso=np.random.randint(0,FoV[0],size=num_qsos)\n",
    "    yqso=np.random.randint(0,FoV[1],size=num_qsos)\n",
    "\n",
    "    QSOcolor = '#FFCC66'\n",
    "    plt.plot(xqso,yqso,'*',color='white',zorder=1,\n",
    "                 markersize=4,alpha=1,\n",
    "                 markeredgecolor=QSOcolor,markeredgewidth=0.25)\n",
    "\n",
    "\n",
    "    credit_text = 'Image credit: NASA/DOE/Fermi LAT Collaboration, Capella Observatory'\n",
    "    plt.text(0,FoV[1]+5,credit_text,style='italic',\n",
    "                 color='k',\n",
    "                 fontsize=3.5,\n",
    "                 va='top')\n",
    "\n",
    "    # Box\n",
    "    xbox = [450,FoV[0]-1]\n",
    "    y1 = 125\n",
    "    y2 = 0\n",
    "    plt.fill_between(xbox,y1,y2,color='k',zorder=2)\n",
    "\n",
    "    # Explanatory text\n",
    "    xpos = np.mean(xbox)\n",
    "    plt.text(xpos, 10, 'Optical',color='#3E77FF',\n",
    "                 fontsize=6,\n",
    "                 ha='center',va='top')\n",
    "    plt.text(xpos, 55, r'$\\gamma$-ray',color='#F900E0',\n",
    "                 fontsize=6,\n",
    "                 ha='center',va='top')\n",
    "    plt.text(xpos, 100, 'Radio',color='#FD8731',\n",
    "                 fontsize=6,\n",
    "                 ha='center',va='top')\n",
    "\n",
    "\n",
    "\n",
    "    cenACoords = [278,400]\n",
    "    cenAradius = 595*786./1007/2.\n",
    "    impactCircle = mpl.patches.Circle((cenACoords),cenAradius,\n",
    "                                          color='w', linestyle=':', fill=False,\n",
    "                                          zorder=3)\n",
    "    ax.add_artist(impactCircle)\n",
    "    # Label the impact parameter:\n",
    "    xx=278+0.78*cenAradius\n",
    "    yy=400.+0.78*cenAradius\n",
    "    ax.text(xx,yy,r'$150$ kpc',\n",
    "                fontsize=6,fontstyle='italic',\n",
    "                rotation = 45,\n",
    "                horizontalalignment='center',verticalalignment='center',\n",
    "                color='white',zorder=3)\n",
    "\n",
    "    # Put a title on it:\n",
    "    plt.title('{0}-m'.format(aperture[j]))\n",
    "\n",
    "    # Write the figure to PDF\n",
    "    output_name = 'fig-CenA_LUVOIR_{0}m.pdf'.format(aperture[j])\n",
    "    plt.savefig(output_name)\n",
    "    plt.close()\n"
   ]
  },
  {
   "cell_type": "code",
   "execution_count": null,
   "metadata": {
    "collapsed": true
   },
   "outputs": [],
   "source": []
  }
 ],
 "metadata": {
  "kernelspec": {
   "display_name": "Python 2",
   "language": "python",
   "name": "python2"
  },
  "language_info": {
   "codemirror_mode": {
    "name": "ipython",
    "version": 2
   },
   "file_extension": ".py",
   "mimetype": "text/x-python",
   "name": "python",
   "nbconvert_exporter": "python",
   "pygments_lexer": "ipython2",
   "version": "2.7.11"
  }
 },
 "nbformat": 4,
 "nbformat_minor": 0
}
