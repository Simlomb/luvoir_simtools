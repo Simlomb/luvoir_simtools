{
 "cells": [
  {
   "cell_type": "markdown",
   "metadata": {},
   "source": [
    "<img src=\"data/banner-luvoir1.png\">\n",
    "This notebook implements Figure 6.3 of the LUVOIR interim report, showing nomimal LUMOS ETCs and a distribution of QSOs that are accessible in a fixed time. "
   ]
  },
  {
   "cell_type": "code",
   "execution_count": 2,
   "metadata": {
    "collapsed": true,
    "deletable": true,
    "editable": true
   },
   "outputs": [],
   "source": [
    "import numpy as np\n",
    "from astropy.table import Table, Column, QTable\n",
    "from matplotlib import pyplot as plt"
   ]
  },
  {
   "cell_type": "code",
   "execution_count": 3,
   "metadata": {
    "collapsed": true,
    "deletable": true,
    "editable": true
   },
   "outputs": [],
   "source": [
    "## function to read in the ETC file\n",
    "def readLumosEtc(infil):\n",
    "    t=Table.read(infil,format='ascii')\n",
    "    wave = t['wave']\n",
    "    flux = t['flux']\n",
    "    s2n = t['sn']\n",
    "\n",
    "    return wave,flux,s2n"
   ]
  },
  {
   "cell_type": "code",
   "execution_count": 4,
   "metadata": {
    "collapsed": true,
    "deletable": true,
    "editable": true
   },
   "outputs": [],
   "source": [
    "def stitchSN(w,s1,s2,s3,s4):\n",
    "    #define wavelength breakpoints: the gratings each are superior to each other\n",
    "    #in certain places.\n",
    "\n",
    "    bp150 = 1475.\n",
    "    bp180 = 1765.\n",
    "    bp300 = 2012.\n",
    "\n",
    "    s2n =np.zeros(w.size)\n",
    "\n",
    "    s2n[np.where(w < bp150)] = s1[np.where(w < bp150)]\n",
    "    s2n[np.where((w > bp150) & (w < bp180))] = s2[np.where((w > bp150) & (w < bp180))]\n",
    "    s2n[np.where((w > bp180) & (w < bp300))] = s3[np.where((w > bp180) & (w < bp300))]\n",
    "    s2n[np.where(w > bp300)] = s4[np.where(w > bp300)]\n",
    "\n",
    "    return s2n"
   ]
  },
  {
   "cell_type": "code",
   "execution_count": 5,
   "metadata": {
    "collapsed": false,
    "deletable": true,
    "editable": true
   },
   "outputs": [],
   "source": [
    "##  main program.  start by reading in the dr7--Galex match file\n",
    "##  pull in the redshifts and NUV or FUV mags\n",
    "dr7qso = QTable.read('data/dr7_qso_galex.fits')\n",
    "zem = dr7qso['Z'][0]\n",
    "fuv = dr7qso['FUV_MAG'][0]\n",
    "nuv = dr7qso['NUV_MAG'][0]"
   ]
  },
  {
   "cell_type": "code",
   "execution_count": 6,
   "metadata": {
    "collapsed": true,
    "deletable": true,
    "editable": true
   },
   "outputs": [],
   "source": [
    "## define rest wavelengths for ions of interest (in order of ionization)\n",
    "restwave = np.array([1216.,1548.,1035.,770.,610.])"
   ]
  },
  {
   "cell_type": "code",
   "execution_count": 7,
   "metadata": {
    "collapsed": true,
    "deletable": true,
    "editable": true
   },
   "outputs": [],
   "source": [
    "## define the LUMOS 'realm' bounded from above by the ground\n",
    "minwave = 1000.\n",
    "maxwave = 4000."
   ]
  },
  {
   "cell_type": "code",
   "execution_count": 8,
   "metadata": {
    "collapsed": true,
    "deletable": true,
    "editable": true
   },
   "outputs": [],
   "source": [
    "apscale_4 = np.sqrt((4*4)/(15.*15.))\n",
    "apscale_65 = np.sqrt((6.5*6.5)/(15.*15.))\n",
    "apscale_9 = np.sqrt((9*9)/(15.*15.))"
   ]
  },
  {
   "cell_type": "code",
   "execution_count": 9,
   "metadata": {
    "collapsed": false,
    "deletable": true,
    "editable": true
   },
   "outputs": [],
   "source": [
    "##  read in the etc files for the various magnitudes, stitch the s2n, scale\n",
    "##  this is most certainly a scaling as well, but I'm lazy\n",
    "w,f,s120 = readLumosEtc('data/ETC_Files/flat_18_g120M_15.txt')\n",
    "w,f,s150 = readLumosEtc('data/ETC_Files/flat_18_g150M_15.txt')\n",
    "w,f,s180 = readLumosEtc('data/ETC_Files/flat_18_g180M_15.txt')\n",
    "w,f,s300 = readLumosEtc('data/ETC_Files/flat_18_g300M_15.txt')\n",
    "stitch_180_15 = stitchSN(w,s120,s150,s180,s300)\n",
    "stitch_180_9 = stitchSN(w,s120,s150,s180,s300)*apscale_9\n",
    "stitch_180_65 = stitchSN(w,s120,s150,s180,s300)*apscale_65\n",
    "stitch_180_4 = stitchSN(w,s120,s150,s180,s300)*apscale_4"
   ]
  },
  {
   "cell_type": "code",
   "execution_count": 10,
   "metadata": {
    "collapsed": false,
    "deletable": true,
    "editable": true
   },
   "outputs": [],
   "source": [
    "w,f,s120 = readLumosEtc('data/ETC_Files/flat_18.5_g120M_15.txt')\n",
    "w,f,s150 = readLumosEtc('data/ETC_Files/flat_18.5_g150M_15.txt')\n",
    "w,f,s180 = readLumosEtc('data/ETC_Files/flat_18.5_g180M_15.txt')\n",
    "w,f,s300 = readLumosEtc('data/ETC_Files/flat_18.5_g300M_15.txt')\n",
    "stitch_185_15 = stitchSN(w,s120,s150,s180,s300)\n",
    "stitch_185_9 = stitchSN(w,s120,s150,s180,s300)*apscale_9\n",
    "stitch_185_65 = stitchSN(w,s120,s150,s180,s300)*apscale_65\n",
    "stitch_185_4 = stitchSN(w,s120,s150,s180,s300)*apscale_4"
   ]
  },
  {
   "cell_type": "code",
   "execution_count": 11,
   "metadata": {
    "collapsed": false,
    "deletable": true,
    "editable": true
   },
   "outputs": [],
   "source": [
    "w,f,s120 = readLumosEtc('data/ETC_Files/flat_19_g120M_15.txt')\n",
    "w,f,s150 = readLumosEtc('data/ETC_Files/flat_19_g150M_15.txt')\n",
    "w,f,s180 = readLumosEtc('data/ETC_Files/flat_19_g180M_15.txt')\n",
    "w,f,s300 = readLumosEtc('data/ETC_Files/flat_19_g300M_15.txt')\n",
    "stitch_190_15 = stitchSN(w,s120,s150,s180,s300)\n",
    "stitch_190_9 = stitchSN(w,s120,s150,s180,s300)*apscale_9\n",
    "stitch_190_65 = stitchSN(w,s120,s150,s180,s300)*apscale_65\n",
    "stitch_190_4 = stitchSN(w,s120,s150,s180,s300)*apscale_4"
   ]
  },
  {
   "cell_type": "code",
   "execution_count": 12,
   "metadata": {
    "collapsed": true,
    "deletable": true,
    "editable": true
   },
   "outputs": [],
   "source": [
    "w,f,s120 = readLumosEtc('data/ETC_Files/flat_19.5_g120M_15.txt')\n",
    "w,f,s150 = readLumosEtc('data/ETC_Files/flat_19.5_g150M_15.txt')\n",
    "w,f,s180 = readLumosEtc('data/ETC_Files/flat_19.5_g180M_15.txt')\n",
    "w,f,s300 = readLumosEtc('data/ETC_Files/flat_19.5_g300M_15.txt')\n",
    "stitch_195_15 = stitchSN(w,s120,s150,s180,s300)\n",
    "stitch_195_9 = stitchSN(w,s120,s150,s180,s300)*apscale_9\n",
    "stitch_195_65 = stitchSN(w,s120,s150,s180,s300)*apscale_65\n",
    "stitch_195_4 = stitchSN(w,s120,s150,s180,s300)*apscale_4"
   ]
  },
  {
   "cell_type": "code",
   "execution_count": 13,
   "metadata": {
    "collapsed": true,
    "deletable": true,
    "editable": true
   },
   "outputs": [],
   "source": [
    "w,f,s120 = readLumosEtc('data/ETC_Files/flat_20_g120M_15.txt')\n",
    "w,f,s150 = readLumosEtc('data/ETC_Files/flat_20_g150M_15.txt')\n",
    "w,f,s180 = readLumosEtc('data/ETC_Files/flat_20_g180M_15.txt')\n",
    "w,f,s300 = readLumosEtc('data/ETC_Files/flat_20_g300M_15.txt')\n",
    "stitch_200_15 = stitchSN(w,s120,s150,s180,s300)\n",
    "stitch_200_9 = stitchSN(w,s120,s150,s180,s300)*apscale_9\n",
    "stitch_200_65 = stitchSN(w,s120,s150,s180,s300)*apscale_65\n",
    "stitch_200_4 = stitchSN(w,s120,s150,s180,s300)*apscale_4"
   ]
  },
  {
   "cell_type": "code",
   "execution_count": 14,
   "metadata": {
    "collapsed": true,
    "deletable": true,
    "editable": true
   },
   "outputs": [],
   "source": [
    "w,f,s120 = readLumosEtc('data/ETC_Files/flat_20.5_g120M_15.txt')\n",
    "w,f,s150 = readLumosEtc('data/ETC_Files/flat_20.5_g150M_15.txt')\n",
    "w,f,s180 = readLumosEtc('data/ETC_Files/flat_20.5_g180M_15.txt')\n",
    "w,f,s300 = readLumosEtc('data/ETC_Files/flat_20.5_g300M_15.txt')\n",
    "stitch_205_15 = stitchSN(w,s120,s150,s180,s300)\n",
    "stitch_205_9 = stitchSN(w,s120,s150,s180,s300)*apscale_9\n",
    "stitch_205_65 = stitchSN(w,s120,s150,s180,s300)*apscale_65\n",
    "stitch_205_4 = stitchSN(w,s120,s150,s180,s300)*apscale_4"
   ]
  },
  {
   "cell_type": "code",
   "execution_count": 15,
   "metadata": {
    "collapsed": true,
    "deletable": true,
    "editable": true
   },
   "outputs": [],
   "source": [
    "##find the quasars\n",
    "qin_18 = np.where((fuv > 10) & (fuv < 18) )\n",
    "qin_18 = qin_18[0]\n",
    "zem_18 = zem[qin_18]\n",
    "fuv_18 = fuv[qin_18]\n",
    "\n",
    "qin_19 = np.where((fuv >= 18.0) & (fuv < 19) )\n",
    "qin_19 = qin_19[0]\n",
    "zem_19 = zem[qin_19]\n",
    "fuv_19 = fuv[qin_19]\n",
    "\n",
    "\n",
    "qin_20 = np.where((fuv >= 19.0) & (fuv < 20) )\n",
    "qin_20 = qin_20[0]\n",
    "zem_20 = zem[qin_20]\n",
    "fuv_20 = fuv[qin_20]\n",
    "\n",
    "qin_21 = np.where((fuv >= 20.0) & (fuv < 21) )\n",
    "qin_21 = qin_21[0]\n",
    "zem_21 = zem[qin_21]\n",
    "fuv_21 = fuv[qin_21]\n"
   ]
  },
  {
   "cell_type": "code",
   "execution_count": 16,
   "metadata": {
    "collapsed": false,
    "deletable": true,
    "editable": true
   },
   "outputs": [],
   "source": [
    "plt.style.context('seaborn')\n",
    "\n",
    "\n",
    "ax=plt.subplot(111)\n",
    "ax.spines[\"top\"].set_visible(False)\n",
    "ax.spines[\"right\"].set_visible(False)\n",
    "ax.get_xaxis().tick_bottom()\n",
    "ax.get_yaxis().tick_left()\n",
    "ax.set_xlabel('Redshift')\n",
    "ax.set_ylabel('Number of Quasars')\n",
    "ax.hist(zem_21, bins=np.arange(40)/20.,label='20 < m_FUV < 21')\n",
    "ax.hist(zem_20, bins=np.arange(40)/20.,label='19 < m_FUV < 20')\n",
    "ax.hist(zem_19, bins=np.arange(40)/20.,label='18 < m_FUV < 19')\n",
    "ax.hist(zem_18, bins=np.arange(40)/20.,label='m_FUV < 18')\n",
    "ax.set_xlim(0.,2.)\n",
    "ax.set_ylim(0.,700.)\n",
    "ax.legend()\n",
    "plt.savefig('QSOS.png')"
   ]
  },
  {
   "cell_type": "code",
   "execution_count": null,
   "metadata": {
    "collapsed": true,
    "deletable": true,
    "editable": true
   },
   "outputs": [],
   "source": []
  }
 ],
 "metadata": {
  "kernelspec": {
   "display_name": "Python 2",
   "language": "python",
   "name": "python2"
  },
  "language_info": {
   "codemirror_mode": {
    "name": "ipython",
    "version": 2
   },
   "file_extension": ".py",
   "mimetype": "text/x-python",
   "name": "python",
   "nbconvert_exporter": "python",
   "pygments_lexer": "ipython2",
   "version": "2.7.11"
  }
 },
 "nbformat": 4,
 "nbformat_minor": 0
}
